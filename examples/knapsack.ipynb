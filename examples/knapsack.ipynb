{
 "cells": [
  {
   "cell_type": "code",
   "execution_count": 84,
   "metadata": {},
   "outputs": [
    {
     "name": "stdout",
     "output_type": "stream",
     "text": [
      "/Users/davidfandrei/Desktop/UEvry/08_Algorithms/Project1/algorithms\n"
     ]
    }
   ],
   "source": [
    "import os, sys\n",
    "from collections import namedtuple\n",
    "from functools import partial\n",
    "import itertools\n",
    "\n",
    "current = os.path.dirname(os.path.realpath(''))\n",
    "parent = os.path.dirname(current)\n",
    "sys.path.append(parent)\n",
    "print(current+'/algorithms')\n",
    "\n",
    "sys.path.insert(0, current+'/algorithms')\n",
    "\n",
    "from geneticalgo import *"
   ]
  },
  {
   "cell_type": "markdown",
   "metadata": {},
   "source": [
    "#### This notebook shows the application of the algorithms to the Knapsack problem"
   ]
  },
  {
   "cell_type": "code",
   "execution_count": 49,
   "metadata": {},
   "outputs": [],
   "source": [
    "Item = namedtuple('Item', ['name', 'value', 'weight'])\n",
    "\n",
    "items = [\n",
    "    Item('Laptop', 500, 2200),\n",
    "    Item('Headphones', 150, 160),\n",
    "    Item('Coffee Mug', 60, 350),\n",
    "    Item('Notepad', 40, 333),\n",
    "    Item('Water Bottle', 30, 192),\n",
    "]"
   ]
  },
  {
   "cell_type": "markdown",
   "metadata": {},
   "source": [
    "#### In the following, the functions for item generation and the fitness function are defined:"
   ]
  },
  {
   "cell_type": "code",
   "execution_count": 51,
   "metadata": {},
   "outputs": [],
   "source": [
    "def generate_items(num: int):\n",
    "    return [Item(f\"item{i}\", i, i) for i in range(1, num+1)]\n",
    "\n",
    "def genome_to_items(genome, items):\n",
    "    result = []\n",
    "    for i, item in enumerate(items):\n",
    "        if genome[i] == 1:\n",
    "            result += [item.name]\n",
    "\n",
    "    return result\n",
    "\n",
    "def fitness(genome, items, weight_limit: int) -> int:\n",
    "    if len(genome) != len(items):\n",
    "        raise ValueError(\"genome and items must be of same length\")\n",
    "\n",
    "    weight = 0\n",
    "    value = 0\n",
    "\n",
    "    for i, item in enumerate(items):\n",
    "        if genome[i] == 1:\n",
    "            weight += item.weight\n",
    "            value += item.value\n",
    "\n",
    "            if weight > weight_limit:\n",
    "                return 0\n",
    "\n",
    "    return value"
   ]
  },
  {
   "cell_type": "code",
   "execution_count": 58,
   "metadata": {},
   "outputs": [],
   "source": [
    "def test(result: list, items):\n",
    "    total_weight = 0\n",
    "    total_value = 0\n",
    "    for i, item in enumerate(items):\n",
    "        if result[i] == 1:\n",
    "            total_weight += item.weight\n",
    "            total_value += item.value\n",
    "    return total_weight, total_value"
   ]
  },
  {
   "cell_type": "markdown",
   "metadata": {},
   "source": [
    "#### For the small collection of items, a brute force solution can be tried:"
   ]
  },
  {
   "cell_type": "code",
   "execution_count": 93,
   "metadata": {},
   "outputs": [
    {
     "name": "stdout",
     "output_type": "stream",
     "text": [
      "Best solution: ['Laptop', 'Headphones', 'Coffee Mug', 'Water Bottle']\n",
      "weight: 2902, value: 740\n"
     ]
    }
   ],
   "source": [
    "def brute_force(items, fitness_func, weight_lim, fitness_lim):\n",
    "    \n",
    "    comb = [list(i) for i in itertools.product([0, 1], repeat=len(items))]\n",
    "    best = [0 for item in items]\n",
    "    max_value = 0\n",
    "\n",
    "    for sol in comb:\n",
    "        value = fitness_func(sol, items, weight_lim)\n",
    "        if value <= fitness_lim and value > max_value:\n",
    "            best = sol\n",
    "            max_value = value\n",
    "\n",
    "    return best\n",
    "\n",
    "weight_lim = 3000\n",
    "fitness_lim = 740\n",
    "\n",
    "res = brute_force(items, fitness, weight_lim, fitness_lim)\n",
    "weight, value = test(res, items)\n",
    "\n",
    "print(f\"Best solution: {genome_to_items(res, items)}\")\n",
    "print(f\"weight: {weight}, value: {value}\")\n"
   ]
  },
  {
   "cell_type": "markdown",
   "metadata": {},
   "source": [
    "#### Next, the Genetic Algorithm is used:"
   ]
  },
  {
   "cell_type": "code",
   "execution_count": 94,
   "metadata": {},
   "outputs": [
    {
     "name": "stdout",
     "output_type": "stream",
     "text": [
      "Number generations: 15\n",
      "Best solution: ['Laptop', 'Headphones', 'Coffee Mug', 'Water Bottle']\n",
      "weight: 2902, value: 740\n"
     ]
    }
   ],
   "source": [
    "population, generations = run_evolution(\n",
    "    populate_func = partial(generate_population, size=10, genome_length = len(items)),\n",
    "    fitness_func = partial(fitness, items=items, weight_limit=3000),\n",
    "    fitness_limit = 740,\n",
    "    generation_limit = 100,\n",
    "    elitism = True\n",
    "    )\n",
    "\n",
    "print(f\"Number generations: {generations}\")\n",
    "print(f\"Best solution: {genome_to_items(population[0], items)}\")\n",
    "\n",
    "w, v = test(population[0], items)\n",
    "print(f\"weight: {w}, value: {v}\")"
   ]
  }
 ],
 "metadata": {
  "kernelspec": {
   "display_name": "Python 3.9.13 ('base')",
   "language": "python",
   "name": "python3"
  },
  "language_info": {
   "codemirror_mode": {
    "name": "ipython",
    "version": 3
   },
   "file_extension": ".py",
   "mimetype": "text/x-python",
   "name": "python",
   "nbconvert_exporter": "python",
   "pygments_lexer": "ipython3",
   "version": "3.9.13 | packaged by conda-forge | (main, May 27 2022, 17:01:00) \n[Clang 13.0.1 ]"
  },
  "orig_nbformat": 4,
  "vscode": {
   "interpreter": {
    "hash": "1ef88b56fec9ce868ae28a9793567efe20245f663c3b1b7c7bdd99ff4e688f37"
   }
  }
 },
 "nbformat": 4,
 "nbformat_minor": 2
}
